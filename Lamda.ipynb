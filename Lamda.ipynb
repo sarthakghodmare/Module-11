{
 "cells": [
  {
   "cell_type": "code",
   "execution_count": 1,
   "id": "6eb430b2-f544-425d-9436-fc37f53d08b6",
   "metadata": {},
   "outputs": [],
   "source": [
    "n=3\n",
    "p=2\n"
   ]
  },
  {
   "cell_type": "code",
   "execution_count": 3,
   "id": "18e82cd4-e0ba-42ad-873d-665268fca782",
   "metadata": {},
   "outputs": [],
   "source": [
    "def test(n,p):\n",
    "    return n**p"
   ]
  },
  {
   "cell_type": "code",
   "execution_count": 4,
   "id": "7d2b31cf-b249-4216-9658-d1c878c722ca",
   "metadata": {},
   "outputs": [
    {
     "data": {
      "text/plain": [
       "9"
      ]
     },
     "execution_count": 4,
     "metadata": {},
     "output_type": "execute_result"
    }
   ],
   "source": [
    "test(3,2)"
   ]
  },
  {
   "cell_type": "code",
   "execution_count": 9,
   "id": "db852da7-03ff-49fe-b729-2e1c925da23d",
   "metadata": {},
   "outputs": [],
   "source": [
    "a= lambda n,p :n**p #lambda initilize same as def .a is named input\n"
   ]
  },
  {
   "cell_type": "code",
   "execution_count": 10,
   "id": "da4b5ab2-f20a-4bbb-9dd5-b6fa1bd703f3",
   "metadata": {},
   "outputs": [
    {
     "data": {
      "text/plain": [
       "9"
      ]
     },
     "execution_count": 10,
     "metadata": {},
     "output_type": "execute_result"
    }
   ],
   "source": [
    "#function call\n",
    "a(3,2)#oneliner ,anormus function,because function is define,only declare function their operation perform input taken their return and work is done"
   ]
  },
  {
   "cell_type": "code",
   "execution_count": 15,
   "id": "0309c930-1cd8-4b87-9717-926dd82dfd5e",
   "metadata": {},
   "outputs": [],
   "source": [
    "add =lambda a,b :a+b #only  in complex function we use to  work on complte fullfeged functions"
   ]
  },
  {
   "cell_type": "code",
   "execution_count": 18,
   "id": "8260690d-491f-4cab-b8cf-e4d9d0ef5790",
   "metadata": {},
   "outputs": [
    {
     "data": {
      "text/plain": [
       "5"
      ]
     },
     "execution_count": 18,
     "metadata": {},
     "output_type": "execute_result"
    }
   ],
   "source": [
    "add(3,2)"
   ]
  },
  {
   "cell_type": "code",
   "execution_count": 22,
   "id": "89a8e517-f8dd-4659-8b5b-345455921a76",
   "metadata": {},
   "outputs": [],
   "source": [
    "c_to_f = lambda c :(9/5)*c+32 #celuis as input\n"
   ]
  },
  {
   "cell_type": "code",
   "execution_count": 23,
   "id": "ba972450-c149-4e66-9a74-a0b4d62aaef9",
   "metadata": {},
   "outputs": [
    {
     "data": {
      "text/plain": [
       "93.2"
      ]
     },
     "execution_count": 23,
     "metadata": {},
     "output_type": "execute_result"
    }
   ],
   "source": [
    "c_to_f(34)"
   ]
  },
  {
   "cell_type": "code",
   "execution_count": 24,
   "id": "8ca00d0c-b1cc-4878-9576-365afab82edc",
   "metadata": {},
   "outputs": [],
   "source": [
    "finding_max = lambda x,y: x if x>y else y #condition ,this is function without a name"
   ]
  },
  {
   "cell_type": "code",
   "execution_count": 25,
   "id": "af8855af-ba4b-4316-9a8f-b9e8e5cda709",
   "metadata": {},
   "outputs": [
    {
     "data": {
      "text/plain": [
       "34"
      ]
     },
     "execution_count": 25,
     "metadata": {},
     "output_type": "execute_result"
    }
   ],
   "source": [
    "finding_max(34,22)"
   ]
  },
  {
   "cell_type": "code",
   "execution_count": 35,
   "id": "6126db21-c0bd-4ec4-813d-589094ba4ef2",
   "metadata": {},
   "outputs": [],
   "source": [
    "s=\"sarthak\""
   ]
  },
  {
   "cell_type": "code",
   "execution_count": 34,
   "id": "935535af-6d2e-4c81-8f69-4b2cdf619db4",
   "metadata": {},
   "outputs": [],
   "source": [
    "find_len= lambda s  : len(s)"
   ]
  },
  {
   "cell_type": "code",
   "execution_count": 36,
   "id": "0ef395bd-25cb-4d71-9acd-67d68a8afc51",
   "metadata": {},
   "outputs": [
    {
     "data": {
      "text/plain": [
       "7"
      ]
     },
     "execution_count": 36,
     "metadata": {},
     "output_type": "execute_result"
    }
   ],
   "source": [
    "find_len(s)"
   ]
  },
  {
   "cell_type": "code",
   "execution_count": null,
   "id": "cff33e7e-e254-4fb0-ad56-d1ea02a35094",
   "metadata": {},
   "outputs": [],
   "source": []
  }
 ],
 "metadata": {
  "kernelspec": {
   "display_name": "Python 3 (ipykernel)",
   "language": "python",
   "name": "python3"
  },
  "language_info": {
   "codemirror_mode": {
    "name": "ipython",
    "version": 3
   },
   "file_extension": ".py",
   "mimetype": "text/x-python",
   "name": "python",
   "nbconvert_exporter": "python",
   "pygments_lexer": "ipython3",
   "version": "3.10.8"
  }
 },
 "nbformat": 4,
 "nbformat_minor": 5
}
