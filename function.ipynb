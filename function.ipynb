{
 "cells": [
  {
   "cell_type": "code",
   "execution_count": 1,
   "id": "2f1efe86-d799-43a0-abdc-ee201a58c390",
   "metadata": {},
   "outputs": [
    {
     "name": "stdout",
     "output_type": "stream",
     "text": [
      "this is my paper\n"
     ]
    }
   ],
   "source": [
    "print(\"this is my paper\")\n",
    "\n"
   ]
  },
  {
   "cell_type": "code",
   "execution_count": 2,
   "id": "598b6203-0a3a-44bc-a88d-0e6b2bc08d57",
   "metadata": {},
   "outputs": [
    {
     "data": {
      "text/plain": [
       "5"
      ]
     },
     "execution_count": 2,
     "metadata": {},
     "output_type": "execute_result"
    }
   ],
   "source": [
    "l=[332,4245,23,53,35]#function helps in reausability of code.\n",
    "len(l)"
   ]
  },
  {
   "cell_type": "code",
   "execution_count": 3,
   "id": "3150d285-bc78-4343-bbf9-fa578572f1d2",
   "metadata": {},
   "outputs": [
    {
     "data": {
      "text/plain": [
       "list"
      ]
     },
     "execution_count": 3,
     "metadata": {},
     "output_type": "execute_result"
    }
   ],
   "source": [
    "type(l)"
   ]
  },
  {
   "cell_type": "code",
   "execution_count": 6,
   "id": "e9c49dc9-77f8-498e-a47d-53fb63778e73",
   "metadata": {},
   "outputs": [
    {
     "ename": "SyntaxError",
     "evalue": "incomplete input (3392237169.py, line 2)",
     "output_type": "error",
     "traceback": [
      "\u001b[0;36m  Cell \u001b[0;32mIn[6], line 2\u001b[0;36m\u001b[0m\n\u001b[0;31m    #if want do only intilization then we need to use pass key word\u001b[0m\n\u001b[0m                                                                   ^\u001b[0m\n\u001b[0;31mSyntaxError\u001b[0m\u001b[0;31m:\u001b[0m incomplete input\n"
     ]
    }
   ],
   "source": [
    "def test(): #if we do function intilization and  not do function definition it can throw syntatical erroe.\n",
    "   "
   ]
  },
  {
   "cell_type": "code",
   "execution_count": 7,
   "id": "d279db42-d9d6-4655-b80a-805856a91faf",
   "metadata": {},
   "outputs": [],
   "source": [
    "def test():#if want do only intilization then we need to use pass key word\n",
    "    pass"
   ]
  },
  {
   "cell_type": "code",
   "execution_count": 8,
   "id": "bb84f6df-3134-4ace-8e6b-69e1c96f9d7b",
   "metadata": {},
   "outputs": [],
   "source": [
    "def test(): #initization\n",
    "    print(\"this is very very my first function\") #definition\n",
    "    #to get a outcome we need to do function calll."
   ]
  },
  {
   "cell_type": "code",
   "execution_count": 9,
   "id": "944dbd72-f70d-45ac-809b-cca68fa8d40a",
   "metadata": {},
   "outputs": [
    {
     "name": "stdout",
     "output_type": "stream",
     "text": [
      "this is very very my first function\n"
     ]
    }
   ],
   "source": [
    "#function call \n",
    "test() #reausability of code increase."
   ]
  },
  {
   "cell_type": "code",
   "execution_count": 11,
   "id": "e9db52bb-d137-47d5-9a13-e98258cd2843",
   "metadata": {},
   "outputs": [
    {
     "ename": "SyntaxError",
     "evalue": "cannot assign to function call here. Maybe you meant '==' instead of '='? (630501331.py, line 1)",
     "output_type": "error",
     "traceback": [
      "\u001b[0;36m  Cell \u001b[0;32mIn[11], line 1\u001b[0;36m\u001b[0m\n\u001b[0;31m    test()=\"sart\"\u001b[0m\n\u001b[0m    ^\u001b[0m\n\u001b[0;31mSyntaxError\u001b[0m\u001b[0;31m:\u001b[0m cannot assign to function call here. Maybe you meant '==' instead of '='?\n"
     ]
    }
   ],
   "source": [
    "test()+\"sart\" #test  is basically nonetype it is not string.it comes from print, print return datatype as nonetype.\n",
    "#then in function we does not use Nonetype,it does not perform various operation."
   ]
  },
  {
   "cell_type": "code",
   "execution_count": 12,
   "id": "4c7e287f-46db-45f6-bfb4-163e656cd5ef",
   "metadata": {},
   "outputs": [],
   "source": [
    "def test1():\n",
    "    return \"This is very my first return\" #return value as string."
   ]
  },
  {
   "cell_type": "code",
   "execution_count": 13,
   "id": "236cb118-9860-44e0-9771-791e9c22b553",
   "metadata": {},
   "outputs": [
    {
     "data": {
      "text/plain": [
       "'This is very my first return'"
      ]
     },
     "execution_count": 13,
     "metadata": {},
     "output_type": "execute_result"
    }
   ],
   "source": [
    "test1()"
   ]
  },
  {
   "cell_type": "code",
   "execution_count": 14,
   "id": "44ba21f3-3cc5-46ee-8758-0fdccf09249e",
   "metadata": {},
   "outputs": [
    {
     "data": {
      "text/plain": [
       "'This is very my first returnsart'"
      ]
     },
     "execution_count": 14,
     "metadata": {},
     "output_type": "execute_result"
    }
   ],
   "source": [
    "test1()+\"sart\""
   ]
  },
  {
   "cell_type": "code",
   "execution_count": 15,
   "id": "5d46ff1a-3791-4e60-980c-b461f0dcd92e",
   "metadata": {},
   "outputs": [],
   "source": [
    "def test2(): #in this case we does not provide argument.\n",
    "    return \"sarth\",32.32,[2,3,4,5]"
   ]
  },
  {
   "cell_type": "code",
   "execution_count": 16,
   "id": "104ee2ec-6816-4001-a9dc-c1dc67aa1ab9",
   "metadata": {},
   "outputs": [
    {
     "data": {
      "text/plain": [
       "('sarth', 32.32, [2, 3, 4, 5])"
      ]
     },
     "execution_count": 16,
     "metadata": {},
     "output_type": "execute_result"
    }
   ],
   "source": [
    "test2()"
   ]
  },
  {
   "cell_type": "code",
   "execution_count": 20,
   "id": "74996490-6a92-4fe8-8c3e-8518770b2790",
   "metadata": {},
   "outputs": [],
   "source": [
    "a,b,c= test2() #it is same as variable declare.  #it can also store in single variable or mutible."
   ]
  },
  {
   "cell_type": "code",
   "execution_count": 21,
   "id": "0f7c7de0-0cb5-445d-a2af-6a97c6de21b6",
   "metadata": {},
   "outputs": [
    {
     "data": {
      "text/plain": [
       "'sarth'"
      ]
     },
     "execution_count": 21,
     "metadata": {},
     "output_type": "execute_result"
    }
   ],
   "source": [
    "a"
   ]
  },
  {
   "cell_type": "code",
   "execution_count": 22,
   "id": "cb794467-9c31-4370-9b9b-68baa581a731",
   "metadata": {},
   "outputs": [
    {
     "data": {
      "text/plain": [
       "32.32"
      ]
     },
     "execution_count": 22,
     "metadata": {},
     "output_type": "execute_result"
    }
   ],
   "source": [
    "b"
   ]
  },
  {
   "cell_type": "code",
   "execution_count": 23,
   "id": "1f7ad36b-6b81-49e0-903d-825e87e53c6d",
   "metadata": {},
   "outputs": [
    {
     "data": {
      "text/plain": [
       "[2, 3, 4, 5]"
      ]
     },
     "execution_count": 23,
     "metadata": {},
     "output_type": "execute_result"
    }
   ],
   "source": [
    "c"
   ]
  },
  {
   "cell_type": "code",
   "execution_count": 24,
   "id": "f88a0318-13c7-4531-b71c-8523057ca0c6",
   "metadata": {},
   "outputs": [],
   "source": [
    "a=1\n",
    "b=4"
   ]
  },
  {
   "cell_type": "code",
   "execution_count": 1,
   "id": "7a4d5f14-e6cc-4b41-9a0c-1d08d316c1a8",
   "metadata": {},
   "outputs": [],
   "source": [
    "a,b=1,4 #same as above\n"
   ]
  },
  {
   "cell_type": "code",
   "execution_count": 4,
   "id": "7d44c867-0a60-4af2-8718-60c5d6e39879",
   "metadata": {},
   "outputs": [],
   "source": [
    "def test4():\n",
    "    a=5+6/7\n",
    "    return a"
   ]
  },
  {
   "cell_type": "code",
   "execution_count": 5,
   "id": "bf46652d-0af0-482a-b563-fa3aa36a55f6",
   "metadata": {},
   "outputs": [
    {
     "data": {
      "text/plain": [
       "5.857142857142857"
      ]
     },
     "execution_count": 5,
     "metadata": {},
     "output_type": "execute_result"
    }
   ],
   "source": [
    "test4()"
   ]
  },
  {
   "cell_type": "code",
   "execution_count": 6,
   "id": "b102a4c1-7fde-477f-a062-af1cb7dbbb1a",
   "metadata": {},
   "outputs": [],
   "source": [
    "def test5(a,b,c):\n",
    "    d=a+b/c\n",
    "    return d"
   ]
  },
  {
   "cell_type": "code",
   "execution_count": 7,
   "id": "1d7e7583-34cf-4542-96cd-0278ae490984",
   "metadata": {},
   "outputs": [
    {
     "ename": "TypeError",
     "evalue": "test5() missing 3 required positional arguments: 'a', 'b', and 'c'",
     "output_type": "error",
     "traceback": [
      "\u001b[0;31m---------------------------------------------------------------------------\u001b[0m",
      "\u001b[0;31mTypeError\u001b[0m                                 Traceback (most recent call last)",
      "Cell \u001b[0;32mIn[7], line 1\u001b[0m\n\u001b[0;32m----> 1\u001b[0m \u001b[43mtest5\u001b[49m\u001b[43m(\u001b[49m\u001b[43m)\u001b[49m\n",
      "\u001b[0;31mTypeError\u001b[0m: test5() missing 3 required positional arguments: 'a', 'b', and 'c'"
     ]
    }
   ],
   "source": [
    "test5()"
   ]
  },
  {
   "cell_type": "code",
   "execution_count": 2,
   "id": "abdeb557-281f-47d6-ad1e-bf494b6cd47e",
   "metadata": {},
   "outputs": [],
   "source": [
    "def test5(a,b,c):\n",
    "    d=a+b/c\n",
    "    return d"
   ]
  },
  {
   "cell_type": "code",
   "execution_count": 3,
   "id": "5774fc70-d298-4749-bd9c-64e95c791fec",
   "metadata": {},
   "outputs": [
    {
     "data": {
      "text/plain": [
       "2.75"
      ]
     },
     "execution_count": 3,
     "metadata": {},
     "output_type": "execute_result"
    }
   ],
   "source": [
    "test5(2,3,4)"
   ]
  },
  {
   "cell_type": "code",
   "execution_count": 6,
   "id": "2b30af73-c213-4734-a051-81693421f111",
   "metadata": {},
   "outputs": [],
   "source": [
    "def test6(a,b):\n",
    "    return   a+b\n",
    "    "
   ]
  },
  {
   "cell_type": "code",
   "execution_count": 7,
   "id": "0fc9cbb5-1c5b-4185-a25e-17d1ab4b10aa",
   "metadata": {},
   "outputs": [
    {
     "data": {
      "text/plain": [
       "26"
      ]
     },
     "execution_count": 7,
     "metadata": {},
     "output_type": "execute_result"
    }
   ],
   "source": [
    "test6(23,3)"
   ]
  },
  {
   "cell_type": "code",
   "execution_count": 8,
   "id": "af59288e-2404-4d30-9214-4de189d470af",
   "metadata": {},
   "outputs": [
    {
     "data": {
      "text/plain": [
       "'sarthakGhodmare'"
      ]
     },
     "execution_count": 8,
     "metadata": {},
     "output_type": "execute_result"
    }
   ],
   "source": [
    "test6(\"sarthak\",\"Ghodmare\") #in string case it concanete ."
   ]
  },
  {
   "cell_type": "code",
   "execution_count": 9,
   "id": "8610befe-3c9a-43b7-8827-64e36e5e2cc9",
   "metadata": {},
   "outputs": [
    {
     "data": {
      "text/plain": [
       "[1, 2, 3, 4, 4, 5, 6]"
      ]
     },
     "execution_count": 9,
     "metadata": {},
     "output_type": "execute_result"
    }
   ],
   "source": [
    "test6([1,2,3,4],[4,5,6])"
   ]
  },
  {
   "cell_type": "code",
   "execution_count": 10,
   "id": "5ea30cd8-c16d-476a-9e93-0082727893f7",
   "metadata": {},
   "outputs": [],
   "source": [
    "l=[1,2,3,4,\"sart\",\"ghodmare\",[1,2,3,4]]"
   ]
  },
  {
   "cell_type": "code",
   "execution_count": 12,
   "id": "8f8ad25c-6d1d-4796-a1ea-dc5650d59a03",
   "metadata": {},
   "outputs": [],
   "source": [
    "l1=[]\n",
    "for i in l:\n",
    "    if type(i) == int or type(i)  ==  float:\n",
    "        l1.append(i)"
   ]
  },
  {
   "cell_type": "code",
   "execution_count": 13,
   "id": "645a64de-1404-4cf9-996a-cfdcd9a383a2",
   "metadata": {},
   "outputs": [
    {
     "data": {
      "text/plain": [
       "[1, 2, 3, 4]"
      ]
     },
     "execution_count": 13,
     "metadata": {},
     "output_type": "execute_result"
    }
   ],
   "source": [
    "l1\n"
   ]
  },
  {
   "cell_type": "code",
   "execution_count": 39,
   "id": "f6c8556c-3df5-42e0-a5ac-64c3bcfae7ea",
   "metadata": {},
   "outputs": [],
   "source": [
    "l=[1,2,3,\"sart\",\"ghodmare\"]\n"
   ]
  },
  {
   "cell_type": "code",
   "execution_count": 42,
   "id": "e7d3341d-386c-4d8e-8b8b-1e6612fa1df4",
   "metadata": {},
   "outputs": [],
   "source": [
    "def test7(l):\n",
    "    l1 = []\n",
    "    for i in l:\n",
    "        if type(i) == int or type(i)  ==  float:\n",
    "            l1.append(i)\n",
    "        return l1\n",
    "    \n",
    "    "
   ]
  },
  {
   "cell_type": "code",
   "execution_count": 45,
   "id": "87739d95-e0b5-4f95-818f-6ec7b05a268d",
   "metadata": {},
   "outputs": [
    {
     "data": {
      "text/plain": [
       "[1]"
      ]
     },
     "execution_count": 45,
     "metadata": {},
     "output_type": "execute_result"
    }
   ],
   "source": [
    "test7(l)\n"
   ]
  },
  {
   "cell_type": "code",
   "execution_count": 46,
   "id": "596fc87c-32e3-46b7-b446-2c4700695f88",
   "metadata": {},
   "outputs": [],
   "source": [
    "l=[1,2,3,4,\"sart\",\"ghodmare\",[1,2,3,4]] #if we needto find list in list."
   ]
  },
  {
   "cell_type": "code",
   "execution_count": 70,
   "id": "667b4ed2-bcbb-4e28-a8f5-9b5a5d6981d3",
   "metadata": {},
   "outputs": [],
   "source": [
    "def test8(a) :\n",
    "    list1=[]\n",
    "    for i in a:\n",
    "        if type(i) == list: #it use taken out list.\n",
    "            for j in i: \n",
    "                list1.append(j)\n",
    "        else:\n",
    "            if type(i) == int or type(i) == float: #it taken out type of int \n",
    "                list1.append(i)\n",
    "    return list1\n",
    "\n",
    "            \n",
    "                \n",
    "                "
   ]
  },
  {
   "cell_type": "code",
   "execution_count": 73,
   "id": "5f9ce22c-0ae8-483c-bbca-9415122024f7",
   "metadata": {},
   "outputs": [
    {
     "data": {
      "text/plain": [
       "[1, 2, 3, 4, 1, 2, 3, 4]"
      ]
     },
     "execution_count": 73,
     "metadata": {},
     "output_type": "execute_result"
    }
   ],
   "source": [
    "test8(l)"
   ]
  },
  {
   "cell_type": "code",
   "execution_count": 74,
   "id": "900a1865-efe3-4239-b736-202ba4fadb8b",
   "metadata": {},
   "outputs": [
    {
     "data": {
      "text/plain": [
       "[1, 2, 3, 4, 'sart', 'ghodmare', [1, 2, 3, 4]]"
      ]
     },
     "execution_count": 74,
     "metadata": {},
     "output_type": "execute_result"
    }
   ],
   "source": [
    "\n",
    "l"
   ]
  },
  {
   "cell_type": "code",
   "execution_count": null,
   "id": "722e15ab-78c2-4730-973f-42d1d4caecc0",
   "metadata": {},
   "outputs": [],
   "source": [
    "test8() # shift and tab"
   ]
  },
  {
   "cell_type": "code",
   "execution_count": null,
   "id": "ce97514c-bc60-499d-9761-4acfee913be2",
   "metadata": {},
   "outputs": [],
   "source": [
    "len()"
   ]
  },
  {
   "cell_type": "code",
   "execution_count": 76,
   "id": "b4066157-ff46-4e9e-a53a-392677c14fe1",
   "metadata": {},
   "outputs": [],
   "source": [
    "def test9(a) :\n",
    "    \"\"\" this is my  function  to extract num data from list\"\"\" #docstring\n",
    "    \n",
    "    list1=[]\n",
    "    for i in a:\n",
    "        if type(i) == list: #it use taken out list.\n",
    "            for j in i: \n",
    "                list1.append(j)\n",
    "        else:\n",
    "            if type(i) == int or type(i) == float: #it taken out type of int \n",
    "                list1.append(i)\n",
    "    return list1\n",
    "\n",
    "            \n",
    "                \n",
    "                "
   ]
  },
  {
   "cell_type": "code",
   "execution_count": null,
   "id": "c2a97d85-ef68-42e9-80e5-1f814b31f0ec",
   "metadata": {},
   "outputs": [],
   "source": [
    "test9()"
   ]
  },
  {
   "cell_type": "code",
   "execution_count": null,
   "id": "b160acf7-a330-40b5-a620-0e8f607831fd",
   "metadata": {},
   "outputs": [],
   "source": [
    "def test10(a,b):#if we want to pass 10 data  we do not do declare any time variables then we do parameter dyanmic\n",
    "    return a+b"
   ]
  },
  {
   "cell_type": "code",
   "execution_count": 77,
   "id": "dc5533bd-3d4d-4b40-8a62-36ae443c80ea",
   "metadata": {},
   "outputs": [],
   "source": [
    "def test11(*args): # staric * meaning is that n number  of argument pass inside a function # infinite arugument can pass inside a function\n",
    "    return args#and args is not keyword we can give any name\n",
    "    "
   ]
  },
  {
   "cell_type": "code",
   "execution_count": 78,
   "id": "8b90ce12-562f-40ca-84fd-89f3e31f2ddb",
   "metadata": {},
   "outputs": [
    {
     "data": {
      "text/plain": [
       "()"
      ]
     },
     "execution_count": 78,
     "metadata": {},
     "output_type": "execute_result"
    }
   ],
   "source": [
    "test11()"
   ]
  },
  {
   "cell_type": "code",
   "execution_count": 79,
   "id": "722c8212-bd95-4c6f-b45f-1cab72155524",
   "metadata": {},
   "outputs": [
    {
     "data": {
      "text/plain": [
       "tuple"
      ]
     },
     "execution_count": 79,
     "metadata": {},
     "output_type": "execute_result"
    }
   ],
   "source": [
    "type(test11())"
   ]
  },
  {
   "cell_type": "code",
   "execution_count": 80,
   "id": "678754dd-32e5-4246-8c8d-3e2302937cfc",
   "metadata": {},
   "outputs": [
    {
     "data": {
      "text/plain": [
       "(1, 2, 3)"
      ]
     },
     "execution_count": 80,
     "metadata": {},
     "output_type": "execute_result"
    }
   ],
   "source": [
    "test11(1,2,3)"
   ]
  },
  {
   "cell_type": "code",
   "execution_count": 81,
   "id": "5f5ccb12-0586-48d4-9168-cca8679a25f3",
   "metadata": {},
   "outputs": [
    {
     "data": {
      "text/plain": [
       "(1, 2, 3, 'sart', 'ghod', [1, 2, 3, 3])"
      ]
     },
     "execution_count": 81,
     "metadata": {},
     "output_type": "execute_result"
    }
   ],
   "source": [
    "test11(1,2,3,\"sart\",\"ghod\",[1,2,3,3])"
   ]
  },
  {
   "cell_type": "code",
   "execution_count": 82,
   "id": "70d1782b-696c-45cc-bf12-b777786a4ceb",
   "metadata": {},
   "outputs": [],
   "source": [
    "def test12(*sart): #multiple input\n",
    "    return sart\n"
   ]
  },
  {
   "cell_type": "code",
   "execution_count": 84,
   "id": "1e14207f-b4cc-40b1-8c83-fd98da55e8c3",
   "metadata": {},
   "outputs": [
    {
     "data": {
      "text/plain": [
       "(1, 2, 3, 34)"
      ]
     },
     "execution_count": 84,
     "metadata": {},
     "output_type": "execute_result"
    }
   ],
   "source": [
    "test12(1,2,3,34)"
   ]
  },
  {
   "cell_type": "code",
   "execution_count": 85,
   "id": "b22d89f7-fb6e-4df5-a69d-b7f5bc42f59c",
   "metadata": {},
   "outputs": [],
   "source": [
    "def test13(*args,a): #staric is used to pass multiple input and we also pass 'a ' python confuse here. To clear this give \"a\" some value\n",
    "    return args,a"
   ]
  },
  {
   "cell_type": "code",
   "execution_count": 86,
   "id": "0c518b48-4824-4e04-9690-edf06111d3af",
   "metadata": {},
   "outputs": [
    {
     "ename": "TypeError",
     "evalue": "test13() missing 1 required keyword-only argument: 'a'",
     "output_type": "error",
     "traceback": [
      "\u001b[0;31m---------------------------------------------------------------------------\u001b[0m",
      "\u001b[0;31mTypeError\u001b[0m                                 Traceback (most recent call last)",
      "Cell \u001b[0;32mIn[86], line 1\u001b[0m\n\u001b[0;32m----> 1\u001b[0m \u001b[43mtest13\u001b[49m\u001b[43m(\u001b[49m\u001b[38;5;241;43m1\u001b[39;49m\u001b[43m,\u001b[49m\u001b[38;5;241;43m2\u001b[39;49m\u001b[43m,\u001b[49m\u001b[38;5;241;43m34\u001b[39;49m\u001b[43m)\u001b[49m\n",
      "\u001b[0;31mTypeError\u001b[0m: test13() missing 1 required keyword-only argument: 'a'"
     ]
    }
   ],
   "source": [
    "test13(1,2,34)"
   ]
  },
  {
   "cell_type": "code",
   "execution_count": 87,
   "id": "1e3c6199-1003-4d5b-848c-da2852e93426",
   "metadata": {},
   "outputs": [
    {
     "data": {
      "text/plain": [
       "((1, 2, 34), 20)"
      ]
     },
     "execution_count": 87,
     "metadata": {},
     "output_type": "execute_result"
    }
   ],
   "source": [
    "test13(1,2,34,a=20)"
   ]
  },
  {
   "cell_type": "code",
   "execution_count": 88,
   "id": "762a6c35-fdef-4662-926a-4e8b3bc3fb11",
   "metadata": {},
   "outputs": [],
   "source": [
    "def test14(c,d,a=3,b=5):\n",
    "    return a,b,c,d"
   ]
  },
  {
   "cell_type": "code",
   "execution_count": 89,
   "id": "11428dff-bb9b-42e6-8bad-385cc64bb169",
   "metadata": {},
   "outputs": [
    {
     "ename": "TypeError",
     "evalue": "test14() missing 2 required positional arguments: 'c' and 'd'",
     "output_type": "error",
     "traceback": [
      "\u001b[0;31m---------------------------------------------------------------------------\u001b[0m",
      "\u001b[0;31mTypeError\u001b[0m                                 Traceback (most recent call last)",
      "Cell \u001b[0;32mIn[89], line 1\u001b[0m\n\u001b[0;32m----> 1\u001b[0m \u001b[43mtest14\u001b[49m\u001b[43m(\u001b[49m\u001b[43m)\u001b[49m\n",
      "\u001b[0;31mTypeError\u001b[0m: test14() missing 2 required positional arguments: 'c' and 'd'"
     ]
    }
   ],
   "source": [
    "test14() #by default we give\" a\" and \"b\" value but \"c\" and \"d\" want their value\n"
   ]
  },
  {
   "cell_type": "code",
   "execution_count": 90,
   "id": "d5aae25a-f8dc-4801-8fd3-999870273364",
   "metadata": {},
   "outputs": [
    {
     "data": {
      "text/plain": [
       "(3, 5, 3, 4)"
      ]
     },
     "execution_count": 90,
     "metadata": {},
     "output_type": "execute_result"
    }
   ],
   "source": [
    "test14(3,4)\n"
   ]
  },
  {
   "cell_type": "code",
   "execution_count": 91,
   "id": "6d81ccef-1193-4ed9-960f-25bff2a5d1ab",
   "metadata": {},
   "outputs": [
    {
     "data": {
      "text/plain": [
       "(134, 5, 2, 43)"
      ]
     },
     "execution_count": 91,
     "metadata": {},
     "output_type": "execute_result"
    }
   ],
   "source": [
    "test14(2,43,a=134) # a has its value but we do overwritting\n"
   ]
  },
  {
   "cell_type": "code",
   "execution_count": 4,
   "id": "a30ed218-b537-4efe-936d-2bece67e5bd3",
   "metadata": {},
   "outputs": [],
   "source": [
    "# if user want N number data in dictionary formant then we use keyword args. if we want in  key value use double staric\n",
    "def test15(**kwargs):\n",
    "    return kwargs\n",
    "\n",
    "\n"
   ]
  },
  {
   "cell_type": "code",
   "execution_count": 5,
   "id": "d93b932e-31c6-44b0-b361-f6608d787870",
   "metadata": {},
   "outputs": [
    {
     "data": {
      "text/plain": [
       "{}"
      ]
     },
     "execution_count": 5,
     "metadata": {},
     "output_type": "execute_result"
    }
   ],
   "source": [
    "test15()"
   ]
  },
  {
   "cell_type": "code",
   "execution_count": 6,
   "id": "3cbca699-2d95-48f0-bbff-88d40cfca707",
   "metadata": {},
   "outputs": [
    {
     "data": {
      "text/plain": [
       "dict"
      ]
     },
     "execution_count": 6,
     "metadata": {},
     "output_type": "execute_result"
    }
   ],
   "source": [
    "type(test15())\n"
   ]
  },
  {
   "cell_type": "code",
   "execution_count": 8,
   "id": "dd28be90-6c12-404f-a29e-34ae79da425b",
   "metadata": {},
   "outputs": [
    {
     "data": {
      "text/plain": [
       "{'a': [1, 2, 3], 'b': 'sarthak'}"
      ]
     },
     "execution_count": 8,
     "metadata": {},
     "output_type": "execute_result"
    }
   ],
   "source": [
    "test15(a=[1,2,3],b=\"sarthak\") # if we keys and value it acts as dict."
   ]
  },
  {
   "cell_type": "code",
   "execution_count": null,
   "id": "0e3ebdd7-0b03-4635-b7e4-0e15c4f83810",
   "metadata": {},
   "outputs": [],
   "source": []
  }
 ],
 "metadata": {
  "kernelspec": {
   "display_name": "Python 3 (ipykernel)",
   "language": "python",
   "name": "python3"
  },
  "language_info": {
   "codemirror_mode": {
    "name": "ipython",
    "version": 3
   },
   "file_extension": ".py",
   "mimetype": "text/x-python",
   "name": "python",
   "nbconvert_exporter": "python",
   "pygments_lexer": "ipython3",
   "version": "3.10.8"
  }
 },
 "nbformat": 4,
 "nbformat_minor": 5
}
