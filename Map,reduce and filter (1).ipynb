{
 "cells": [
  {
   "cell_type": "code",
   "execution_count": 1,
   "id": "c6cbed38-00be-413c-8e94-394fad39afb7",
   "metadata": {},
   "outputs": [],
   "source": [
    "l=[1,2,3,4,5]"
   ]
  },
  {
   "cell_type": "code",
   "execution_count": 2,
   "id": "19de85b1-c033-45dd-bf5f-793ba30aac71",
   "metadata": {},
   "outputs": [],
   "source": [
    "def test(l):\n",
    "    l1=[]\n",
    "    for i in l:\n",
    "        l1.append(i**2)\n",
    "    return l1\n",
    "    \n",
    "    "
   ]
  },
  {
   "cell_type": "code",
   "execution_count": 3,
   "id": "2f655552-74b7-4193-a1a7-18a9aa130db7",
   "metadata": {},
   "outputs": [
    {
     "data": {
      "text/plain": [
       "[1, 4, 9, 16, 25]"
      ]
     },
     "execution_count": 3,
     "metadata": {},
     "output_type": "execute_result"
    }
   ],
   "source": [
    "test(l)\n"
   ]
  },
  {
   "cell_type": "code",
   "execution_count": 5,
   "id": "c4e7cee7-82f4-402e-93da-3e661beb3ce8",
   "metadata": {},
   "outputs": [],
   "source": [
    "def sq(x):\n",
    "    return x**2 #extranal function\n",
    "    "
   ]
  },
  {
   "cell_type": "code",
   "execution_count": 7,
   "id": "4ed56642-d9db-4a90-b862-55d1ea068fe0",
   "metadata": {},
   "outputs": [
    {
     "data": {
      "text/plain": [
       "[1, 4, 9, 16, 25]"
      ]
     },
     "execution_count": 7,
     "metadata": {},
     "output_type": "execute_result"
    }
   ],
   "source": [
    "list(map(sq,l))   #map the sq function Map function is used to do mapping to each values or iterables. map is used simple function \n",
    "#this is example crete by extrnal function we can also do with lambda fuction."
   ]
  },
  {
   "cell_type": "code",
   "execution_count": 8,
   "id": "e6475212-9218-43ee-9900-6aa8ce99a711",
   "metadata": {},
   "outputs": [
    {
     "data": {
      "text/plain": [
       "[1, 4, 9, 16, 25]"
      ]
     },
     "execution_count": 8,
     "metadata": {},
     "output_type": "execute_result"
    }
   ],
   "source": [
    "list(map(lambda x: x**2 ,l)) #using lambda fuction"
   ]
  },
  {
   "cell_type": "code",
   "execution_count": 9,
   "id": "1c1b7d13-fea2-474a-8b58-25d067a91ad9",
   "metadata": {},
   "outputs": [
    {
     "data": {
      "text/plain": [
       "[7, 9, 11, 13, 15]"
      ]
     },
     "execution_count": 9,
     "metadata": {},
     "output_type": "execute_result"
    }
   ],
   "source": [
    "l1=[1,2,3,4,5] # we want addition of values of list as indexing wise and gives their outcome\n",
    "l2=[6,7,8,9,10]\n",
    "list(map(lambda x,y:x+y,l1,l2))"
   ]
  },
  {
   "cell_type": "code",
   "execution_count": 10,
   "id": "3a2e0718-04c5-4c63-b7a5-2de9166527af",
   "metadata": {},
   "outputs": [],
   "source": [
    "#instead using lambda function we use simple/extrnal function\n",
    "def add(x,y):\n",
    "    return x+y"
   ]
  },
  {
   "cell_type": "code",
   "execution_count": 11,
   "id": "aaae79bd-6c69-4f32-9849-27c7bc98fb07",
   "metadata": {},
   "outputs": [
    {
     "data": {
      "text/plain": [
       "[7, 9, 11, 13, 15]"
      ]
     },
     "execution_count": 11,
     "metadata": {},
     "output_type": "execute_result"
    }
   ],
   "source": [
    " list(map(add,l1,l2))#mapper is used only that  what type of function and itreablle you passed  by their function and itreable it gives outcomes."
   ]
  },
  {
   "cell_type": "code",
   "execution_count": 12,
   "id": "2b2ccee0-59f2-4e0c-897b-4e2b0bb6bd20",
   "metadata": {},
   "outputs": [],
   "source": [
    "s=\"sarthak\""
   ]
  },
  {
   "cell_type": "code",
   "execution_count": 13,
   "id": "c0f4819b-4b24-44e9-b1b5-a7015ca06f83",
   "metadata": {},
   "outputs": [
    {
     "data": {
      "text/plain": [
       "['S', 'A', 'R', 'T', 'H', 'A', 'K']"
      ]
     },
     "execution_count": 13,
     "metadata": {},
     "output_type": "execute_result"
    }
   ],
   "source": [
    "list(map(lambda s:s.upper() ,s))"
   ]
  },
  {
   "cell_type": "code",
   "execution_count": 1,
   "id": "c4a06979-23a8-4299-83e9-3fc7fcedbb5b",
   "metadata": {},
   "outputs": [],
   "source": [
    "#reduce is working on itreable but by default it is not directly available we have to import them from libray.\n",
    "from functools import reduce"
   ]
  },
  {
   "cell_type": "code",
   "execution_count": 2,
   "id": "c4c2ac20-013b-4d36-9142-8be2fa1124d2",
   "metadata": {},
   "outputs": [],
   "source": [
    "l=[1,2,3,4,5]"
   ]
  },
  {
   "cell_type": "code",
   "execution_count": 3,
   "id": "1bec9b9f-fb5b-45a7-a19d-585e38e3a941",
   "metadata": {},
   "outputs": [
    {
     "data": {
      "text/plain": [
       "15"
      ]
     },
     "execution_count": 3,
     "metadata": {},
     "output_type": "execute_result"
    }
   ],
   "source": [
    "reduce(lambda x,y:x+y,l) #fuction may or may not be extrnal or lambda. reduce helps in reduce number of elemenet"
   ]
  },
  {
   "cell_type": "code",
   "execution_count": 4,
   "id": "0ccc34b8-51a2-4570-8a8f-14e527ec4404",
   "metadata": {},
   "outputs": [
    {
     "ename": "TypeError",
     "evalue": "<lambda>() missing 1 required positional argument: 'z'",
     "output_type": "error",
     "traceback": [
      "\u001b[0;31m---------------------------------------------------------------------------\u001b[0m",
      "\u001b[0;31mTypeError\u001b[0m                                 Traceback (most recent call last)",
      "Cell \u001b[0;32mIn[4], line 1\u001b[0m\n\u001b[0;32m----> 1\u001b[0m \u001b[43mreduce\u001b[49m\u001b[43m(\u001b[49m\u001b[38;5;28;43;01mlambda\u001b[39;49;00m\u001b[43m \u001b[49m\u001b[43mx\u001b[49m\u001b[43m,\u001b[49m\u001b[43my\u001b[49m\u001b[43m,\u001b[49m\u001b[43mz\u001b[49m\u001b[43m:\u001b[49m\u001b[43mx\u001b[49m\u001b[38;5;241;43m+\u001b[39;49m\u001b[43my\u001b[49m\u001b[38;5;241;43m+\u001b[39;49m\u001b[43mz\u001b[49m\u001b[43m,\u001b[49m\u001b[43ml\u001b[49m\u001b[43m)\u001b[49m\n",
      "\u001b[0;31mTypeError\u001b[0m: <lambda>() missing 1 required positional argument: 'z'"
     ]
    }
   ],
   "source": [
    "reduce(lambda x,y,z:x+y+z,l) #Third parameter does not include in reduce"
   ]
  },
  {
   "cell_type": "code",
   "execution_count": 5,
   "id": "cd7b6900-aa05-4142-9c55-8caa769ea960",
   "metadata": {},
   "outputs": [
    {
     "ename": "TypeError",
     "evalue": "reduce() of empty iterable with no initial value",
     "output_type": "error",
     "traceback": [
      "\u001b[0;31m---------------------------------------------------------------------------\u001b[0m",
      "\u001b[0;31mTypeError\u001b[0m                                 Traceback (most recent call last)",
      "Cell \u001b[0;32mIn[5], line 1\u001b[0m\n\u001b[0;32m----> 1\u001b[0m \u001b[43mreduce\u001b[49m\u001b[43m(\u001b[49m\u001b[38;5;28;43;01mlambda\u001b[39;49;00m\u001b[43m \u001b[49m\u001b[43mx\u001b[49m\u001b[43m,\u001b[49m\u001b[43my\u001b[49m\u001b[43m:\u001b[49m\u001b[43mx\u001b[49m\u001b[38;5;241;43m+\u001b[39;49m\u001b[43my\u001b[49m\u001b[43m,\u001b[49m\u001b[43m[\u001b[49m\u001b[43m]\u001b[49m\u001b[43m)\u001b[49m\n",
      "\u001b[0;31mTypeError\u001b[0m: reduce() of empty iterable with no initial value"
     ]
    }
   ],
   "source": [
    "reduce(lambda x,y:x+y,[])"
   ]
  },
  {
   "cell_type": "code",
   "execution_count": 7,
   "id": "7d7a47f7-8708-402e-806a-c8eb41de89ee",
   "metadata": {},
   "outputs": [
    {
     "data": {
      "text/plain": [
       "1"
      ]
     },
     "execution_count": 7,
     "metadata": {},
     "output_type": "execute_result"
    }
   ],
   "source": [
    "reduce(lambda x,y:x+y,[1]) #it is exceptional case one data has pass its allows but has only two argument"
   ]
  },
  {
   "cell_type": "code",
   "execution_count": 9,
   "id": "dd606210-90ac-4aa7-a340-d2ab8c4dd14b",
   "metadata": {},
   "outputs": [
    {
     "data": {
      "text/plain": [
       "120"
      ]
     },
     "execution_count": 9,
     "metadata": {},
     "output_type": "execute_result"
    }
   ],
   "source": [
    "reduce(lambda x,y: x*y,l)"
   ]
  },
  {
   "cell_type": "code",
   "execution_count": 10,
   "id": "9866fac2-c01a-4d79-ad7a-d7d73f36531e",
   "metadata": {},
   "outputs": [
    {
     "data": {
      "text/plain": [
       "[1, 2, 3, 4, 5]"
      ]
     },
     "execution_count": 10,
     "metadata": {},
     "output_type": "execute_result"
    }
   ],
   "source": [
    "l\n"
   ]
  },
  {
   "cell_type": "code",
   "execution_count": 11,
   "id": "512966be-57e0-4d9e-8c2d-215ebcaf8d03",
   "metadata": {},
   "outputs": [
    {
     "data": {
      "text/plain": [
       "5"
      ]
     },
     "execution_count": 11,
     "metadata": {},
     "output_type": "execute_result"
    }
   ],
   "source": [
    "reduce(lambda x,y:x if x>y else y ,l)"
   ]
  },
  {
   "cell_type": "code",
   "execution_count": 18,
   "id": "27fa7861-fc96-453a-bcbd-4667e7b81fd2",
   "metadata": {},
   "outputs": [
    {
     "data": {
      "text/plain": [
       "[1, 2, 3, 4, 5]"
      ]
     },
     "execution_count": 18,
     "metadata": {},
     "output_type": "execute_result"
    }
   ],
   "source": [
    "l"
   ]
  },
  {
   "cell_type": "code",
   "execution_count": 13,
   "id": "320853d7-af25-42d1-a8bf-4d080913a7b0",
   "metadata": {},
   "outputs": [],
   "source": [
    "#map is used map #reduce is used to collapse"
   ]
  },
  {
   "cell_type": "code",
   "execution_count": 20,
   "id": "27a3fa1a-d135-4788-b697-e80fe8fc81ff",
   "metadata": {},
   "outputs": [
    {
     "data": {
      "text/plain": [
       "[2, 4]"
      ]
     },
     "execution_count": 20,
     "metadata": {},
     "output_type": "execute_result"
    }
   ],
   "source": [
    "list(filter(lambda x: x%2 == 0 ,l))"
   ]
  },
  {
   "cell_type": "code",
   "execution_count": 22,
   "id": "1f7e47b0-eff4-4dd2-8e33-44f8337faebb",
   "metadata": {},
   "outputs": [
    {
     "data": {
      "text/plain": [
       "[1, 3, 5]"
      ]
     },
     "execution_count": 22,
     "metadata": {},
     "output_type": "execute_result"
    }
   ],
   "source": [
    "list(filter(lambda x: x%2 !=0 ,l))"
   ]
  },
  {
   "cell_type": "code",
   "execution_count": 24,
   "id": "2ba309a6-9a48-4142-97d7-2f62646fdf5c",
   "metadata": {},
   "outputs": [],
   "source": [
    "l1=[2,3,4,-4,-5,-7,56]"
   ]
  },
  {
   "cell_type": "code",
   "execution_count": 26,
   "id": "378e350d-ec8e-417c-95c0-feceaca88666",
   "metadata": {},
   "outputs": [
    {
     "data": {
      "text/plain": [
       "[-4, -5, -7]"
      ]
     },
     "execution_count": 26,
     "metadata": {},
     "output_type": "execute_result"
    }
   ],
   "source": [
    "list(filter(lambda x: x<2  ,l1))"
   ]
  },
  {
   "cell_type": "code",
   "execution_count": 27,
   "id": "49127637-ffbb-4820-aa6d-5099bd285ead",
   "metadata": {},
   "outputs": [],
   "source": [
    "l2=[\"sart\",\"sarthak\",\"ghodmare\",\"ghod\",\"chya\"]"
   ]
  },
  {
   "cell_type": "code",
   "execution_count": 29,
   "id": "aa7ff0c5-a5e2-426e-9293-987328cf6972",
   "metadata": {},
   "outputs": [
    {
     "data": {
      "text/plain": [
       "['sart', 'ghod', 'chya']"
      ]
     },
     "execution_count": 29,
     "metadata": {},
     "output_type": "execute_result"
    }
   ],
   "source": [
    "list(filter(lambda x: len(x) <6,l2))"
   ]
  },
  {
   "cell_type": "code",
   "execution_count": null,
   "id": "5f00b352-b466-4e28-8ae6-8173c85f4298",
   "metadata": {},
   "outputs": [],
   "source": []
  }
 ],
 "metadata": {
  "kernelspec": {
   "display_name": "Python 3 (ipykernel)",
   "language": "python",
   "name": "python3"
  },
  "language_info": {
   "codemirror_mode": {
    "name": "ipython",
    "version": 3
   },
   "file_extension": ".py",
   "mimetype": "text/x-python",
   "name": "python",
   "nbconvert_exporter": "python",
   "pygments_lexer": "ipython3",
   "version": "3.10.8"
  }
 },
 "nbformat": 4,
 "nbformat_minor": 5
}
