{
 "cells": [
  {
   "cell_type": "code",
   "execution_count": null,
   "id": "1f5938bd-24f9-4de4-8fd5-95245d843b2c",
   "metadata": {},
   "outputs": [],
   "source": [
    "# it is special type of function"
   ]
  },
  {
   "cell_type": "code",
   "execution_count": 1,
   "id": "dbbe8a61-c0e0-4007-906f-1b23e5daf627",
   "metadata": {},
   "outputs": [
    {
     "data": {
      "text/plain": [
       "range(0, 10)"
      ]
     },
     "execution_count": 1,
     "metadata": {},
     "output_type": "execute_result"
    }
   ],
   "source": [
    "range(10)\n",
    " #it gives outcomes in object it does not give in form of data.\n",
    "\n"
   ]
  },
  {
   "cell_type": "code",
   "execution_count": 3,
   "id": "0868dc83-ca1b-475f-9783-87925f6c4ac7",
   "metadata": {},
   "outputs": [
    {
     "name": "stdout",
     "output_type": "stream",
     "text": [
      "0\n",
      "1\n",
      "2\n",
      "3\n",
      "4\n",
      "5\n",
      "6\n",
      "7\n",
      "8\n",
      "9\n"
     ]
    }
   ],
   "source": [
    "for i in range(10):\n",
    "    print(i) #it give outcomes inforn of data. data gives one at a time. gives form of list.bigger the list bigger it takes memory inmain memory.then it give singal list outcomes.\n",
    "    #in this process memory consumption increase.to reduced memory consumption we use basically genrator function.\n",
    "    #the function gives outcomes one by one does not gives all at a time is called generator function."
   ]
  },
  {
   "cell_type": "code",
   "execution_count": null,
   "id": "ed809b77-8810-4b6f-b70a-6da01d005ff7",
   "metadata": {},
   "outputs": [],
   "source": [
    "#next number is addition of previous two numbers"
   ]
  },
  {
   "cell_type": "code",
   "execution_count": 3,
   "id": "c841eee2-af0f-4364-b52a-dcf0ebb87e3f",
   "metadata": {},
   "outputs": [],
   "source": [
    "#generator function\n",
    "def test_fib(n):\n",
    "    a,b=0,1#creting variabled\n",
    "    for i in range(n):\n",
    "        yield a #yield is special reserve keyword use to generate generator function,it use to throw data. then it is became generator function\n",
    "        a,b= b,a+b\n",
    "        #basically data takem out sigal at a time\n",
    "        "
   ]
  },
  {
   "cell_type": "code",
   "execution_count": null,
   "id": "3b7081a3-85ac-4e69-8044-8d9a92a10670",
   "metadata": {},
   "outputs": [],
   "source": []
  },
  {
   "cell_type": "code",
   "execution_count": null,
   "id": "e7e9fd15-5355-48a1-9860-a9be197af4bf",
   "metadata": {},
   "outputs": [],
   "source": []
  },
  {
   "cell_type": "code",
   "execution_count": 4,
   "id": "17107cf8-da5b-4cef-8f1c-13ea51dc7a27",
   "metadata": {},
   "outputs": [
    {
     "data": {
      "text/plain": [
       "<function __main__.test_fib(n)>"
      ]
     },
     "execution_count": 4,
     "metadata": {},
     "output_type": "execute_result"
    }
   ],
   "source": [
    "test_fib#basically it does not gives outcomes it give object."
   ]
  },
  {
   "cell_type": "code",
   "execution_count": 5,
   "id": "036a6569-d0cb-48e0-a3bc-362ce7adae70",
   "metadata": {},
   "outputs": [
    {
     "name": "stdout",
     "output_type": "stream",
     "text": [
      "0\n",
      "1\n",
      "1\n",
      "2\n",
      "3\n",
      "5\n",
      "8\n",
      "13\n",
      "21\n",
      "34\n"
     ]
    }
   ],
   "source": [
    "for i in test_fib(10):\n",
    "    print(i)"
   ]
  },
  {
   "cell_type": "code",
   "execution_count": 6,
   "id": "79f4b701-2487-4fc0-bb4e-f85ed062f529",
   "metadata": {},
   "outputs": [],
   "source": [
    "def test_fib1():\n",
    "    a,b=0,1\n",
    "    while True: #while means true. True\"raho\" tto enter in yield\n",
    "        yield a # data want it give data\n",
    "        a,b= b,a+b"
   ]
  },
  {
   "cell_type": "code",
   "execution_count": 7,
   "id": "48c61c31-3cca-4ff4-bdf1-8d70643e0b85",
   "metadata": {},
   "outputs": [],
   "source": [
    "#for function call we declare a object\n",
    "fib = test_fib1() #by default it became iterator"
   ]
  },
  {
   "cell_type": "code",
   "execution_count": 24,
   "id": "23493865-7ae6-49c2-af0d-523e6da69d3d",
   "metadata": {},
   "outputs": [
    {
     "data": {
      "text/plain": [
       "generator"
      ]
     },
     "execution_count": 24,
     "metadata": {},
     "output_type": "execute_result"
    }
   ],
   "source": [
    "type(fib) #genartor means it is iterator"
   ]
  },
  {
   "cell_type": "code",
   "execution_count": 9,
   "id": "8815d4d1-dec3-46ad-98f6-5985bea6154d",
   "metadata": {},
   "outputs": [
    {
     "name": "stdout",
     "output_type": "stream",
     "text": [
      "0\n",
      "1\n",
      "1\n",
      "2\n",
      "3\n",
      "5\n",
      "8\n",
      "13\n",
      "21\n",
      "34\n"
     ]
    }
   ],
   "source": [
    "for i in range(10):\n",
    "    print(next(fib))"
   ]
  },
  {
   "cell_type": "code",
   "execution_count": 10,
   "id": "e5c198e7-0f5d-4d8e-a209-bef95dccf8c2",
   "metadata": {},
   "outputs": [],
   "source": [
    "s=\"sart\""
   ]
  },
  {
   "cell_type": "code",
   "execution_count": 11,
   "id": "16dd7d98-316c-4e22-b5f2-bb27e7671bf2",
   "metadata": {},
   "outputs": [
    {
     "name": "stdout",
     "output_type": "stream",
     "text": [
      "s\n",
      "a\n",
      "r\n",
      "t\n"
     ]
    }
   ],
   "source": [
    "for i in s:\n",
    "    print(i) #\"sart\"taken  at a time."
   ]
  },
  {
   "cell_type": "code",
   "execution_count": 12,
   "id": "56709a9d-d411-4d00-a9b4-162eddea696f",
   "metadata": {},
   "outputs": [
    {
     "data": {
      "text/plain": [
       "'sart'"
      ]
     },
     "execution_count": 12,
     "metadata": {},
     "output_type": "execute_result"
    }
   ],
   "source": [
    "s"
   ]
  },
  {
   "cell_type": "code",
   "execution_count": 13,
   "id": "262680a4-0be7-41b2-aeef-558aa8fb2c33",
   "metadata": {},
   "outputs": [
    {
     "ename": "TypeError",
     "evalue": "'str' object is not an iterator",
     "output_type": "error",
     "traceback": [
      "\u001b[0;31m---------------------------------------------------------------------------\u001b[0m",
      "\u001b[0;31mTypeError\u001b[0m                                 Traceback (most recent call last)",
      "Cell \u001b[0;32mIn[13], line 1\u001b[0m\n\u001b[0;32m----> 1\u001b[0m \u001b[38;5;28;43mnext\u001b[39;49m\u001b[43m(\u001b[49m\u001b[43ms\u001b[49m\u001b[43m)\u001b[49m\n",
      "\u001b[0;31mTypeError\u001b[0m: 'str' object is not an iterator"
     ]
    }
   ],
   "source": [
    "next(s) #str is not object who can iterate it is iterable it is not iterartor."
   ]
  },
  {
   "cell_type": "code",
   "execution_count": 14,
   "id": "73cd82f5-2daf-4903-a397-33dd9dd6cfda",
   "metadata": {},
   "outputs": [],
   "source": [
    "s1=iter(s)# to became string iterator we give string in iter function it return by default iterator.\n"
   ]
  },
  {
   "cell_type": "code",
   "execution_count": 20,
   "id": "5f83ae16-0058-4080-8c0e-7c63044fb8fa",
   "metadata": {},
   "outputs": [
    {
     "data": {
      "text/plain": [
       "str_iterator"
      ]
     },
     "execution_count": 20,
     "metadata": {},
     "output_type": "execute_result"
    }
   ],
   "source": [
    "type(s1) "
   ]
  },
  {
   "cell_type": "code",
   "execution_count": 15,
   "id": "c7ea4b83-3047-41ae-b7dc-1582bf69604f",
   "metadata": {},
   "outputs": [
    {
     "data": {
      "text/plain": [
       "'s'"
      ]
     },
     "execution_count": 15,
     "metadata": {},
     "output_type": "execute_result"
    }
   ],
   "source": [
    "next(s1)"
   ]
  },
  {
   "cell_type": "code",
   "execution_count": 16,
   "id": "59de5142-aab6-47b0-ad01-5664ded3b6d7",
   "metadata": {},
   "outputs": [
    {
     "data": {
      "text/plain": [
       "'a'"
      ]
     },
     "execution_count": 16,
     "metadata": {},
     "output_type": "execute_result"
    }
   ],
   "source": [
    "next(s1)"
   ]
  },
  {
   "cell_type": "code",
   "execution_count": 17,
   "id": "dcc86134-7fe8-4210-8d6c-85cb20328ef4",
   "metadata": {},
   "outputs": [
    {
     "data": {
      "text/plain": [
       "'r'"
      ]
     },
     "execution_count": 17,
     "metadata": {},
     "output_type": "execute_result"
    }
   ],
   "source": [
    "next(s1)"
   ]
  },
  {
   "cell_type": "code",
   "execution_count": 18,
   "id": "6752f1e4-e8f8-41b3-b999-bb37fd42968b",
   "metadata": {},
   "outputs": [
    {
     "data": {
      "text/plain": [
       "'t'"
      ]
     },
     "execution_count": 18,
     "metadata": {},
     "output_type": "execute_result"
    }
   ],
   "source": [
    "next(s1)"
   ]
  },
  {
   "cell_type": "code",
   "execution_count": 21,
   "id": "bca88d69-5bed-4391-bc4d-5891ed3c72d4",
   "metadata": {},
   "outputs": [
    {
     "ename": "StopIteration",
     "evalue": "",
     "output_type": "error",
     "traceback": [
      "\u001b[0;31m---------------------------------------------------------------------------\u001b[0m",
      "\u001b[0;31mStopIteration\u001b[0m                             Traceback (most recent call last)",
      "Cell \u001b[0;32mIn[21], line 1\u001b[0m\n\u001b[0;32m----> 1\u001b[0m \u001b[38;5;28;43mnext\u001b[39;49m\u001b[43m(\u001b[49m\u001b[43ms1\u001b[49m\u001b[43m)\u001b[49m\n",
      "\u001b[0;31mStopIteration\u001b[0m: "
     ]
    }
   ],
   "source": [
    "next(s1) # it stop iteration ,it exaust ,data has no left, in case of for loop it alerady calculate length.\n",
    "#for loop gives to iterator  and perfrom next operation only difference is it calculate lenght as compare to give direct \"iter\" and \"next\" function."
   ]
  },
  {
   "cell_type": "code",
   "execution_count": 22,
   "id": "424f520e-b0cd-49e2-8f23-72dcd9e9b004",
   "metadata": {},
   "outputs": [
    {
     "ename": "TypeError",
     "evalue": "'int' object is not an iterator",
     "output_type": "error",
     "traceback": [
      "\u001b[0;31m---------------------------------------------------------------------------\u001b[0m",
      "\u001b[0;31mTypeError\u001b[0m                                 Traceback (most recent call last)",
      "Cell \u001b[0;32mIn[22], line 1\u001b[0m\n\u001b[0;32m----> 1\u001b[0m \u001b[38;5;28;43mnext\u001b[39;49m\u001b[43m(\u001b[49m\u001b[38;5;241;43m45\u001b[39;49m\u001b[43m)\u001b[49m\n",
      "\u001b[0;31mTypeError\u001b[0m: 'int' object is not an iterator"
     ]
    }
   ],
   "source": [
    "next(45) #we does not run int or float or complex number  in loop . if they are iterable then only we use to allow to convert them into iterator."
   ]
  },
  {
   "cell_type": "code",
   "execution_count": 23,
   "id": "e50ba7d1-d92c-4ccd-8e46-7bca263c2f95",
   "metadata": {},
   "outputs": [
    {
     "ename": "TypeError",
     "evalue": "'int' object is not iterable",
     "output_type": "error",
     "traceback": [
      "\u001b[0;31m---------------------------------------------------------------------------\u001b[0m",
      "\u001b[0;31mTypeError\u001b[0m                                 Traceback (most recent call last)",
      "Cell \u001b[0;32mIn[23], line 1\u001b[0m\n\u001b[0;32m----> 1\u001b[0m \u001b[38;5;28;43miter\u001b[39;49m\u001b[43m(\u001b[49m\u001b[38;5;241;43m45\u001b[39;49m\u001b[43m)\u001b[49m\n",
      "\u001b[0;31mTypeError\u001b[0m: 'int' object is not iterable"
     ]
    }
   ],
   "source": [
    "iter(45) #int it both not iterator and iterable"
   ]
  },
  {
   "cell_type": "code",
   "execution_count": 25,
   "id": "2f0afe46-39bb-4eaf-b0f3-48306ae11853",
   "metadata": {},
   "outputs": [],
   "source": [
    "# iterator is that object or that data we can do next function or get their  value using next,next.\n",
    "#iterable is that data who can change in iterator\n",
    "#genartor function define by using yeild function or keyword. gives data one at a time"
   ]
  },
  {
   "cell_type": "code",
   "execution_count": 47,
   "id": "2ee9fc29-c341-44ab-9231-f2a6ac59f730",
   "metadata": {},
   "outputs": [],
   "source": [
    "def count_test(n):\n",
    "    count=1\n",
    "    while count <=n:\n",
    "        yield count\n",
    "        count =count+1"
   ]
  },
  {
   "cell_type": "code",
   "execution_count": 50,
   "id": "22494d1d-48e5-4435-98b3-d78c1c993ba9",
   "metadata": {},
   "outputs": [],
   "source": [
    "c = count_test(5)\n",
    "\n",
    "    "
   ]
  },
  {
   "cell_type": "code",
   "execution_count": 52,
   "id": "fee762f1-34bb-4c30-b90d-a6ab560e17d6",
   "metadata": {},
   "outputs": [
    {
     "data": {
      "text/plain": [
       "generator"
      ]
     },
     "execution_count": 52,
     "metadata": {},
     "output_type": "execute_result"
    }
   ],
   "source": [
    "type(c)"
   ]
  },
  {
   "cell_type": "code",
   "execution_count": 51,
   "id": "7ddcb491-6696-4d29-ac33-a1a354738aa2",
   "metadata": {},
   "outputs": [
    {
     "name": "stdout",
     "output_type": "stream",
     "text": [
      "1\n",
      "2\n",
      "3\n",
      "4\n",
      "5\n"
     ]
    }
   ],
   "source": [
    "for i in  c:\n",
    "    print(i)"
   ]
  },
  {
   "cell_type": "code",
   "execution_count": null,
   "id": "c57bfd1f-9159-4927-a4f5-18f7a0848a5d",
   "metadata": {},
   "outputs": [],
   "source": []
  },
  {
   "cell_type": "code",
   "execution_count": null,
   "id": "1c603250-a05a-41d2-aac1-7262697fca02",
   "metadata": {},
   "outputs": [],
   "source": []
  }
 ],
 "metadata": {
  "kernelspec": {
   "display_name": "Python 3 (ipykernel)",
   "language": "python",
   "name": "python3"
  },
  "language_info": {
   "codemirror_mode": {
    "name": "ipython",
    "version": 3
   },
   "file_extension": ".py",
   "mimetype": "text/x-python",
   "name": "python",
   "nbconvert_exporter": "python",
   "pygments_lexer": "ipython3",
   "version": "3.10.8"
  }
 },
 "nbformat": 4,
 "nbformat_minor": 5
}
